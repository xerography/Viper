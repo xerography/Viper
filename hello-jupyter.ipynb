{
 "cells": [
  {
   "cell_type": "markdown",
   "metadata": {},
   "source": [
    "# Hello Jupyter Notebook"
   ]
  },
  {
   "cell_type": "markdown",
   "metadata": {},
   "source": [
    "Jupyter notebooks is a great code editor for machine learning. Play around with the following cells to familiarize yourself with it."
   ]
  },
  {
   "cell_type": "markdown",
   "metadata": {},
   "source": [
    "### Cheat sheet\n",
    "\n",
    "1. Double-click me!\n",
    "2. Now you see me in edit mode (see the green box around me?) This means you can write stuff.\n",
    "3. Now, hit Escape on your keyboard (see the box turn blue?) This means you are in command mode and can do lots of cool stuff. Try any of the following:\n",
    "  - H (see **H**elp page)\n",
    "  - A (insert cell **A**bove)\n",
    "  - B (insert cell **B**elow)\n",
    "4. Now, click me again, and execute me by running **Shift + Enter**. This is how you execute code in Jupyter. Try executing the following cells\n",
    "  "
   ]
  },
  {
   "cell_type": "code",
   "execution_count": 3,
   "metadata": {},
   "outputs": [
    {
     "name": "stdout",
     "output_type": "stream",
     "text": [
      "Hello world!\n"
     ]
    }
   ],
   "source": [
    "print('Hello world!')"
   ]
  },
  {
   "cell_type": "code",
   "execution_count": 4,
   "metadata": {},
   "outputs": [
    {
     "data": {
      "text/plain": [
       "50"
      ]
     },
     "execution_count": 4,
     "metadata": {},
     "output_type": "execute_result"
    }
   ],
   "source": [
    "100/10*5"
   ]
  },
  {
   "cell_type": "code",
   "execution_count": 5,
   "metadata": {},
   "outputs": [
    {
     "name": "stdout",
     "output_type": "stream",
     "text": [
      "Object `print` not found.\n"
     ]
    }
   ],
   "source": [
    "# When in doubt, you can use the '?' suffix to bring up the documentation\n",
    "print?"
   ]
  },
  {
   "cell_type": "code",
   "execution_count": null,
   "metadata": {
    "collapsed": true
   },
   "outputs": [],
   "source": []
  },
  {
   "cell_type": "code",
   "execution_count": null,
   "metadata": {
    "collapsed": true
   },
   "outputs": [],
   "source": []
  },
  {
   "cell_type": "markdown",
   "metadata": {},
   "source": [
    "# Hello Python"
   ]
  },
  {
   "cell_type": "markdown",
   "metadata": {},
   "source": [
    "### Variables"
   ]
  },
  {
   "cell_type": "code",
   "execution_count": 6,
   "metadata": {},
   "outputs": [
    {
     "name": "stdout",
     "output_type": "stream",
     "text": [
      "10\n",
      "20\n",
      "hello world\n"
     ]
    }
   ],
   "source": [
    "# this is how you define a variable\n",
    "a = 10\n",
    "print(a)\n",
    "print(a+a)\n",
    "\n",
    "some_variable = 'hello world'\n",
    "print(some_variable)"
   ]
  },
  {
   "cell_type": "code",
   "execution_count": 9,
   "metadata": {
    "collapsed": true
   },
   "outputs": [],
   "source": [
    "# define variable my_name and assign your own name (e.g. 'david') to it. and then print it:\n",
    "\n",
    "# YOUR CODE HERE: my_name =\"Mark\""
   ]
  },
  {
   "cell_type": "code",
   "execution_count": 10,
   "metadata": {},
   "outputs": [
    {
     "name": "stdout",
     "output_type": "stream",
     "text": [
      "10\n"
     ]
    }
   ],
   "source": [
    "# Virtually everything in programming in case-sensitive\n",
    "b = 10\n",
    "B = 2000\n",
    "print(b)"
   ]
  },
  {
   "cell_type": "markdown",
   "metadata": {},
   "source": [
    "### Math operators"
   ]
  },
  {
   "cell_type": "code",
   "execution_count": 11,
   "metadata": {},
   "outputs": [
    {
     "data": {
      "text/plain": [
       "2"
      ]
     },
     "execution_count": 11,
     "metadata": {},
     "output_type": "execute_result"
    }
   ],
   "source": [
    "1 + 1"
   ]
  },
  {
   "cell_type": "code",
   "execution_count": 12,
   "metadata": {},
   "outputs": [
    {
     "data": {
      "text/plain": [
       "5"
      ]
     },
     "execution_count": 12,
     "metadata": {},
     "output_type": "execute_result"
    }
   ],
   "source": [
    "10/2"
   ]
  },
  {
   "cell_type": "code",
   "execution_count": 13,
   "metadata": {},
   "outputs": [
    {
     "data": {
      "text/plain": [
       "30"
      ]
     },
     "execution_count": 13,
     "metadata": {},
     "output_type": "execute_result"
    }
   ],
   "source": [
    "10*3"
   ]
  },
  {
   "cell_type": "markdown",
   "metadata": {},
   "source": [
    "### Boolean operators"
   ]
  },
  {
   "cell_type": "code",
   "execution_count": 14,
   "metadata": {},
   "outputs": [
    {
     "data": {
      "text/plain": [
       "True"
      ]
     },
     "execution_count": 14,
     "metadata": {},
     "output_type": "execute_result"
    }
   ],
   "source": [
    "# Boolean (true/false) operators \n",
    "1 == 1"
   ]
  },
  {
   "cell_type": "code",
   "execution_count": 15,
   "metadata": {},
   "outputs": [
    {
     "data": {
      "text/plain": [
       "False"
      ]
     },
     "execution_count": 15,
     "metadata": {},
     "output_type": "execute_result"
    }
   ],
   "source": [
    "1 == 2"
   ]
  },
  {
   "cell_type": "code",
   "execution_count": 16,
   "metadata": {},
   "outputs": [
    {
     "data": {
      "text/plain": [
       "True"
      ]
     },
     "execution_count": 16,
     "metadata": {},
     "output_type": "execute_result"
    }
   ],
   "source": [
    "2 > 1"
   ]
  },
  {
   "cell_type": "code",
   "execution_count": 17,
   "metadata": {},
   "outputs": [
    {
     "data": {
      "text/plain": [
       "True"
      ]
     },
     "execution_count": 17,
     "metadata": {},
     "output_type": "execute_result"
    }
   ],
   "source": [
    "# joining boolean statements with 'and'\n",
    "3 > 1 and 3 > 2"
   ]
  },
  {
   "cell_type": "code",
   "execution_count": 21,
   "metadata": {},
   "outputs": [
    {
     "name": "stdout",
     "output_type": "stream",
     "text": [
      "True\n",
      "True\n"
     ]
    }
   ],
   "source": [
    "print('hello' == 'hello')\n",
    "print('hello' != 'bye')"
   ]
  },
  {
   "cell_type": "markdown",
   "metadata": {},
   "source": [
    "### Arrays"
   ]
  },
  {
   "cell_type": "code",
   "execution_count": 22,
   "metadata": {},
   "outputs": [
    {
     "name": "stdout",
     "output_type": "stream",
     "text": [
      "[100, 200, 300, 1000, 4200]\n"
     ]
    }
   ],
   "source": [
    "# Arrays are denoted with square brackets - []\n",
    "my_array = [100, 200, 300, 1000, 4200]\n",
    "print(my_array)"
   ]
  },
  {
   "cell_type": "code",
   "execution_count": 33,
   "metadata": {},
   "outputs": [
    {
     "data": {
      "text/plain": [
       "100"
      ]
     },
     "execution_count": 33,
     "metadata": {},
     "output_type": "execute_result"
    }
   ],
   "source": [
    "# Accessing elements in an array (in programming, counting starts from 0!)\n",
    "my_array[0]\n",
    "\n"
   ]
  },
  {
   "cell_type": "code",
   "execution_count": 24,
   "metadata": {},
   "outputs": [
    {
     "data": {
      "text/plain": [
       "[100, 200, 300, 1000]"
      ]
     },
     "execution_count": 24,
     "metadata": {},
     "output_type": "execute_result"
    }
   ],
   "source": [
    "# Accessing a range of elements in an array with colon ':'\n",
    "my_array[0:4] # this gives us the zeroth to the fourth (non-inclusive) elements"
   ]
  },
  {
   "cell_type": "code",
   "execution_count": 25,
   "metadata": {},
   "outputs": [
    {
     "data": {
      "text/plain": [
       "[100, 200, 300, 1000, 4200]"
      ]
     },
     "execution_count": 25,
     "metadata": {},
     "output_type": "execute_result"
    }
   ],
   "source": [
    "my_array[:] # this gives us everything in an array"
   ]
  },
  {
   "cell_type": "markdown",
   "metadata": {},
   "source": [
    "### Functions"
   ]
  },
  {
   "cell_type": "code",
   "execution_count": 35,
   "metadata": {
    "collapsed": true
   },
   "outputs": [],
   "source": [
    "# Defining a function\n",
    "def add_2_numbers(a, b):\n",
    "    return a + b"
   ]
  },
  {
   "cell_type": "code",
   "execution_count": 36,
   "metadata": {
    "scrolled": true
   },
   "outputs": [
    {
     "data": {
      "text/plain": [
       "210"
      ]
     },
     "execution_count": 36,
     "metadata": {},
     "output_type": "execute_result"
    }
   ],
   "source": [
    "# Invoking a function\n",
    "add_2_numbers(10, 200)"
   ]
  },
  {
   "cell_type": "markdown",
   "metadata": {},
   "source": [
    "### Objects"
   ]
  },
  {
   "cell_type": "code",
   "execution_count": 28,
   "metadata": {
    "collapsed": true
   },
   "outputs": [],
   "source": [
    "# This is a class. Think of class as a blueprint for creating objects\n",
    "class Person:\n",
    "    def walk(self):\n",
    "        print('i am walking!')\n",
    "        \n",
    "    def talk(self, topic):\n",
    "        print('i am talking about ' + topic + '!')\n",
    "        \n",
    "    def add_2_numbers(self, a, b):\n",
    "        return a + b"
   ]
  },
  {
   "cell_type": "code",
   "execution_count": 39,
   "metadata": {
    "collapsed": true
   },
   "outputs": [],
   "source": [
    "david = Person()"
   ]
  },
  {
   "cell_type": "code",
   "execution_count": 40,
   "metadata": {},
   "outputs": [
    {
     "name": "stdout",
     "output_type": "stream",
     "text": [
      "i am walking!\n"
     ]
    }
   ],
   "source": [
    "# This is known as a 'method'. A method is a function that belongs to an object\n",
    "david.walk()"
   ]
  },
  {
   "cell_type": "code",
   "execution_count": 44,
   "metadata": {},
   "outputs": [
    {
     "name": "stdout",
     "output_type": "stream",
     "text": [
      "i am talking about Donald Trump!\n"
     ]
    }
   ],
   "source": [
    "# Make david talk\n",
    "# YOUR CODE HERE:\n",
    "david.talk(\"Donald Trump\")\n"
   ]
  },
  {
   "cell_type": "code",
   "execution_count": 51,
   "metadata": {},
   "outputs": [],
   "source": [
    "# Create another object and assign it to a variable of your choice. And then call all 3 of its methods:\n",
    "# YOUR CODE HERE:\n",
    "Mark = Person()\n"
   ]
  },
  {
   "cell_type": "markdown",
   "metadata": {},
   "source": [
    "# Hello pandas"
   ]
  },
  {
   "cell_type": "code",
   "execution_count": 53,
   "metadata": {
    "collapsed": true
   },
   "outputs": [],
   "source": [
    "import pandas as pd"
   ]
  },
  {
   "cell_type": "code",
   "execution_count": 57,
   "metadata": {},
   "outputs": [
    {
     "data": {
      "text/plain": [
       "<function pandas.io.parsers.read_csv>"
      ]
     },
     "execution_count": 57,
     "metadata": {},
     "output_type": "execute_result"
    }
   ],
   "source": [
    "# pandas is an object (remember Person?) that can do things (i.e. it has methods).\n",
    "# To see all the methods,  type the object (e.g. pd) followed by a dot (.) and hit \"Tab\". You can then scroll through its methods\n",
    "pd.read_csv"
   ]
  },
  {
   "cell_type": "code",
   "execution_count": 66,
   "metadata": {},
   "outputs": [
    {
     "data": {
      "text/plain": [
       "<bound method DataFrame.head of       Unnamed: 0  age  duration  campaign  pdays  previous  emp.var.rate  \\\n",
       "0              0   56       261         1    999         0           1.1   \n",
       "1              1   57       149         1    999         0           1.1   \n",
       "2              2   37       226         1    999         0           1.1   \n",
       "3              3   40       151         1    999         0           1.1   \n",
       "4              4   56       307         1    999         0           1.1   \n",
       "5              5   45       198         1    999         0           1.1   \n",
       "6              6   59       139         1    999         0           1.1   \n",
       "7              7   41       217         1    999         0           1.1   \n",
       "8              8   24       380         1    999         0           1.1   \n",
       "9              9   25        50         1    999         0           1.1   \n",
       "10            10   41        55         1    999         0           1.1   \n",
       "11            11   25       222         1    999         0           1.1   \n",
       "12            12   29       137         1    999         0           1.1   \n",
       "13            13   57       293         1    999         0           1.1   \n",
       "14            14   35       146         1    999         0           1.1   \n",
       "15            15   54       174         1    999         0           1.1   \n",
       "16            16   35       312         1    999         0           1.1   \n",
       "17            17   46       440         1    999         0           1.1   \n",
       "18            18   50       353         1    999         0           1.1   \n",
       "19            19   39       195         1    999         0           1.1   \n",
       "20            20   30        38         1    999         0           1.1   \n",
       "21            21   55       262         1    999         0           1.1   \n",
       "22            22   55       342         1    999         0           1.1   \n",
       "23            23   41       181         1    999         0           1.1   \n",
       "24            24   37       172         1    999         0           1.1   \n",
       "25            25   35        99         1    999         0           1.1   \n",
       "26            26   59        93         1    999         0           1.1   \n",
       "27            27   39       233         1    999         0           1.1   \n",
       "28            28   54       255         2    999         0           1.1   \n",
       "29            29   55       362         1    999         0           1.1   \n",
       "...          ...  ...       ...       ...    ...       ...           ...   \n",
       "9610       41128   31       456         2    999         0          -1.1   \n",
       "9611       41130   31       260         1    999         0          -1.1   \n",
       "9612       41132   41       597         2      3         2          -1.1   \n",
       "9613       41134   25       244         1    999         0          -1.1   \n",
       "9614       41138   58       344         2    999         0          -1.1   \n",
       "9615       41140   33       237         2    999         0          -1.1   \n",
       "9616       41141   37       315         1    999         0          -1.1   \n",
       "9617       41142   43       741         4    999         2          -1.1   \n",
       "9618       41145   26       528         3    999         0          -1.1   \n",
       "9619       41146   41       252         4    999         0          -1.1   \n",
       "9620       41147   25       712         2     19         1          -1.1   \n",
       "9621       41148   35       397         3    999         0          -1.1   \n",
       "9622       41151   41       526         2      6         1          -1.1   \n",
       "9623       41153   67       655         2      5         5          -1.1   \n",
       "9624       41156   41       545         2    999         0          -1.1   \n",
       "9625       41158   35       363         1    999         0          -1.1   \n",
       "9626       41159   35       514         1      9         4          -1.1   \n",
       "9627       41160   33       843         1    999         0          -1.1   \n",
       "9628       41163   35       385         3      4         2          -1.1   \n",
       "9629       41164   54      1868         2     10         1          -1.1   \n",
       "9630       41165   38       403         2    999         0          -1.1   \n",
       "9631       41166   32       651         1    999         1          -1.1   \n",
       "9632       41171   33       112         1    999         0          -1.1   \n",
       "9633       41172   31       353         1    999         0          -1.1   \n",
       "9634       41173   62       329         1    999         2          -1.1   \n",
       "9635       41174   62       208         1      1         6          -1.1   \n",
       "9636       41178   62       483         2      6         3          -1.1   \n",
       "9637       41181   37       281         1    999         0          -1.1   \n",
       "9638       41183   73       334         1    999         0          -1.1   \n",
       "9639       41186   44       442         1    999         0          -1.1   \n",
       "\n",
       "      cons.price.idx  cons.conf.idx  euribor3m ...  month_sep  \\\n",
       "0             93.994          -36.4      4.857 ...          0   \n",
       "1             93.994          -36.4      4.857 ...          0   \n",
       "2             93.994          -36.4      4.857 ...          0   \n",
       "3             93.994          -36.4      4.857 ...          0   \n",
       "4             93.994          -36.4      4.857 ...          0   \n",
       "5             93.994          -36.4      4.857 ...          0   \n",
       "6             93.994          -36.4      4.857 ...          0   \n",
       "7             93.994          -36.4      4.857 ...          0   \n",
       "8             93.994          -36.4      4.857 ...          0   \n",
       "9             93.994          -36.4      4.857 ...          0   \n",
       "10            93.994          -36.4      4.857 ...          0   \n",
       "11            93.994          -36.4      4.857 ...          0   \n",
       "12            93.994          -36.4      4.857 ...          0   \n",
       "13            93.994          -36.4      4.857 ...          0   \n",
       "14            93.994          -36.4      4.857 ...          0   \n",
       "15            93.994          -36.4      4.857 ...          0   \n",
       "16            93.994          -36.4      4.857 ...          0   \n",
       "17            93.994          -36.4      4.857 ...          0   \n",
       "18            93.994          -36.4      4.857 ...          0   \n",
       "19            93.994          -36.4      4.857 ...          0   \n",
       "20            93.994          -36.4      4.857 ...          0   \n",
       "21            93.994          -36.4      4.857 ...          0   \n",
       "22            93.994          -36.4      4.857 ...          0   \n",
       "23            93.994          -36.4      4.857 ...          0   \n",
       "24            93.994          -36.4      4.857 ...          0   \n",
       "25            93.994          -36.4      4.857 ...          0   \n",
       "26            93.994          -36.4      4.857 ...          0   \n",
       "27            93.994          -36.4      4.857 ...          0   \n",
       "28            93.994          -36.4      4.857 ...          0   \n",
       "29            93.994          -36.4      4.857 ...          0   \n",
       "...              ...            ...        ... ...        ...   \n",
       "9610          94.767          -50.8      1.044 ...          0   \n",
       "9611          94.767          -50.8      1.041 ...          0   \n",
       "9612          94.767          -50.8      1.041 ...          0   \n",
       "9613          94.767          -50.8      1.041 ...          0   \n",
       "9614          94.767          -50.8      1.041 ...          0   \n",
       "9615          94.767          -50.8      1.040 ...          0   \n",
       "9616          94.767          -50.8      1.040 ...          0   \n",
       "9617          94.767          -50.8      1.040 ...          0   \n",
       "9618          94.767          -50.8      1.040 ...          0   \n",
       "9619          94.767          -50.8      1.040 ...          0   \n",
       "9620          94.767          -50.8      1.040 ...          0   \n",
       "9621          94.767          -50.8      1.040 ...          0   \n",
       "9622          94.767          -50.8      1.039 ...          0   \n",
       "9623          94.767          -50.8      1.039 ...          0   \n",
       "9624          94.767          -50.8      1.039 ...          0   \n",
       "9625          94.767          -50.8      1.035 ...          0   \n",
       "9626          94.767          -50.8      1.035 ...          0   \n",
       "9627          94.767          -50.8      1.035 ...          0   \n",
       "9628          94.767          -50.8      1.035 ...          0   \n",
       "9629          94.767          -50.8      1.035 ...          0   \n",
       "9630          94.767          -50.8      1.030 ...          0   \n",
       "9631          94.767          -50.8      1.030 ...          0   \n",
       "9632          94.767          -50.8      1.031 ...          0   \n",
       "9633          94.767          -50.8      1.031 ...          0   \n",
       "9634          94.767          -50.8      1.031 ...          0   \n",
       "9635          94.767          -50.8      1.031 ...          0   \n",
       "9636          94.767          -50.8      1.031 ...          0   \n",
       "9637          94.767          -50.8      1.028 ...          0   \n",
       "9638          94.767          -50.8      1.028 ...          0   \n",
       "9639          94.767          -50.8      1.028 ...          0   \n",
       "\n",
       "      day_of_week_fri  day_of_week_mon  day_of_week_thu  day_of_week_tue  \\\n",
       "0                   0                1                0                0   \n",
       "1                   0                1                0                0   \n",
       "2                   0                1                0                0   \n",
       "3                   0                1                0                0   \n",
       "4                   0                1                0                0   \n",
       "5                   0                1                0                0   \n",
       "6                   0                1                0                0   \n",
       "7                   0                1                0                0   \n",
       "8                   0                1                0                0   \n",
       "9                   0                1                0                0   \n",
       "10                  0                1                0                0   \n",
       "11                  0                1                0                0   \n",
       "12                  0                1                0                0   \n",
       "13                  0                1                0                0   \n",
       "14                  0                1                0                0   \n",
       "15                  0                1                0                0   \n",
       "16                  0                1                0                0   \n",
       "17                  0                1                0                0   \n",
       "18                  0                1                0                0   \n",
       "19                  0                1                0                0   \n",
       "20                  0                1                0                0   \n",
       "21                  0                1                0                0   \n",
       "22                  0                1                0                0   \n",
       "23                  0                1                0                0   \n",
       "24                  0                1                0                0   \n",
       "25                  0                1                0                0   \n",
       "26                  0                1                0                0   \n",
       "27                  0                1                0                0   \n",
       "28                  0                1                0                0   \n",
       "29                  0                1                0                0   \n",
       "...               ...              ...              ...              ...   \n",
       "9610                0                0                0                0   \n",
       "9611                0                0                1                0   \n",
       "9612                0                0                1                0   \n",
       "9613                0                0                1                0   \n",
       "9614                0                0                1                0   \n",
       "9615                1                0                0                0   \n",
       "9616                1                0                0                0   \n",
       "9617                1                0                0                0   \n",
       "9618                1                0                0                0   \n",
       "9619                1                0                0                0   \n",
       "9620                1                0                0                0   \n",
       "9621                1                0                0                0   \n",
       "9622                0                1                0                0   \n",
       "9623                0                1                0                0   \n",
       "9624                0                1                0                0   \n",
       "9625                0                0                0                1   \n",
       "9626                0                0                0                1   \n",
       "9627                0                0                0                1   \n",
       "9628                0                0                0                1   \n",
       "9629                0                0                0                1   \n",
       "9630                0                0                0                0   \n",
       "9631                0                0                0                0   \n",
       "9632                0                0                1                0   \n",
       "9633                0                0                1                0   \n",
       "9634                0                0                1                0   \n",
       "9635                0                0                1                0   \n",
       "9636                0                0                1                0   \n",
       "9637                1                0                0                0   \n",
       "9638                1                0                0                0   \n",
       "9639                1                0                0                0   \n",
       "\n",
       "      day_of_week_wed  poutcome_failure  poutcome_nonexistent  \\\n",
       "0                   0                 0                     1   \n",
       "1                   0                 0                     1   \n",
       "2                   0                 0                     1   \n",
       "3                   0                 0                     1   \n",
       "4                   0                 0                     1   \n",
       "5                   0                 0                     1   \n",
       "6                   0                 0                     1   \n",
       "7                   0                 0                     1   \n",
       "8                   0                 0                     1   \n",
       "9                   0                 0                     1   \n",
       "10                  0                 0                     1   \n",
       "11                  0                 0                     1   \n",
       "12                  0                 0                     1   \n",
       "13                  0                 0                     1   \n",
       "14                  0                 0                     1   \n",
       "15                  0                 0                     1   \n",
       "16                  0                 0                     1   \n",
       "17                  0                 0                     1   \n",
       "18                  0                 0                     1   \n",
       "19                  0                 0                     1   \n",
       "20                  0                 0                     1   \n",
       "21                  0                 0                     1   \n",
       "22                  0                 0                     1   \n",
       "23                  0                 0                     1   \n",
       "24                  0                 0                     1   \n",
       "25                  0                 0                     1   \n",
       "26                  0                 0                     1   \n",
       "27                  0                 0                     1   \n",
       "28                  0                 0                     1   \n",
       "29                  0                 0                     1   \n",
       "...               ...               ...                   ...   \n",
       "9610                1                 0                     1   \n",
       "9611                0                 0                     1   \n",
       "9612                0                 0                     0   \n",
       "9613                0                 0                     1   \n",
       "9614                0                 0                     1   \n",
       "9615                0                 0                     1   \n",
       "9616                0                 0                     1   \n",
       "9617                0                 1                     0   \n",
       "9618                0                 0                     1   \n",
       "9619                0                 0                     1   \n",
       "9620                0                 0                     0   \n",
       "9621                0                 0                     1   \n",
       "9622                0                 0                     0   \n",
       "9623                0                 0                     0   \n",
       "9624                0                 0                     1   \n",
       "9625                0                 0                     1   \n",
       "9626                0                 0                     0   \n",
       "9627                0                 0                     1   \n",
       "9628                0                 0                     0   \n",
       "9629                0                 0                     0   \n",
       "9630                1                 0                     1   \n",
       "9631                1                 1                     0   \n",
       "9632                0                 0                     1   \n",
       "9633                0                 0                     1   \n",
       "9634                0                 1                     0   \n",
       "9635                0                 0                     0   \n",
       "9636                0                 0                     0   \n",
       "9637                0                 0                     1   \n",
       "9638                0                 0                     1   \n",
       "9639                0                 0                     1   \n",
       "\n",
       "      poutcome_success  y  \n",
       "0                    0  0  \n",
       "1                    0  0  \n",
       "2                    0  0  \n",
       "3                    0  0  \n",
       "4                    0  0  \n",
       "5                    0  0  \n",
       "6                    0  0  \n",
       "7                    0  0  \n",
       "8                    0  0  \n",
       "9                    0  0  \n",
       "10                   0  0  \n",
       "11                   0  0  \n",
       "12                   0  0  \n",
       "13                   0  0  \n",
       "14                   0  0  \n",
       "15                   0  0  \n",
       "16                   0  0  \n",
       "17                   0  0  \n",
       "18                   0  0  \n",
       "19                   0  0  \n",
       "20                   0  0  \n",
       "21                   0  0  \n",
       "22                   0  0  \n",
       "23                   0  0  \n",
       "24                   0  0  \n",
       "25                   0  0  \n",
       "26                   0  0  \n",
       "27                   0  0  \n",
       "28                   0  0  \n",
       "29                   0  0  \n",
       "...                ... ..  \n",
       "9610                 0  1  \n",
       "9611                 0  1  \n",
       "9612                 1  1  \n",
       "9613                 0  1  \n",
       "9614                 0  1  \n",
       "9615                 0  1  \n",
       "9616                 0  1  \n",
       "9617                 0  1  \n",
       "9618                 0  1  \n",
       "9619                 0  1  \n",
       "9620                 1  1  \n",
       "9621                 0  1  \n",
       "9622                 1  1  \n",
       "9623                 1  1  \n",
       "9624                 0  1  \n",
       "9625                 0  1  \n",
       "9626                 1  1  \n",
       "9627                 0  1  \n",
       "9628                 1  1  \n",
       "9629                 1  1  \n",
       "9630                 0  1  \n",
       "9631                 0  1  \n",
       "9632                 0  1  \n",
       "9633                 0  1  \n",
       "9634                 0  1  \n",
       "9635                 1  1  \n",
       "9636                 1  1  \n",
       "9637                 0  1  \n",
       "9638                 0  1  \n",
       "9639                 0  1  \n",
       "\n",
       "[9640 rows x 65 columns]>"
      ]
     },
     "execution_count": 66,
     "metadata": {},
     "output_type": "execute_result"
    }
   ],
   "source": [
    "# To load a csv file as a dataframe\n",
    "# A dataframe is like your excel table\n",
    "pd.read_csv('./data/bank-marketing-data/bank-additional-balanced-dataset.csv')\n",
    "\n",
    "anything.head"
   ]
  },
  {
   "cell_type": "code",
   "execution_count": 64,
   "metadata": {
    "collapsed": true
   },
   "outputs": [],
   "source": [
    "# Assign the output of this method to a variable\n",
    "df = pd.read_csv('./data/bank-marketing-data/bank-additional-balanced-dataset.csv')"
   ]
  },
  {
   "cell_type": "code",
   "execution_count": null,
   "metadata": {
    "collapsed": true
   },
   "outputs": [],
   "source": [
    "# Again, df is an object that can do things (i.e. it has methods). Add a dot after df and hit \"Tab to see its methods\"\n",
    "df."
   ]
  },
  {
   "cell_type": "code",
   "execution_count": 67,
   "metadata": {},
   "outputs": [
    {
     "data": {
      "text/plain": [
       "<bound method DataFrame.to_csv of       Unnamed: 0  age  duration  campaign  pdays  previous  emp.var.rate  \\\n",
       "0              0   56       261         1    999         0           1.1   \n",
       "1              1   57       149         1    999         0           1.1   \n",
       "2              2   37       226         1    999         0           1.1   \n",
       "3              3   40       151         1    999         0           1.1   \n",
       "4              4   56       307         1    999         0           1.1   \n",
       "5              5   45       198         1    999         0           1.1   \n",
       "6              6   59       139         1    999         0           1.1   \n",
       "7              7   41       217         1    999         0           1.1   \n",
       "8              8   24       380         1    999         0           1.1   \n",
       "9              9   25        50         1    999         0           1.1   \n",
       "10            10   41        55         1    999         0           1.1   \n",
       "11            11   25       222         1    999         0           1.1   \n",
       "12            12   29       137         1    999         0           1.1   \n",
       "13            13   57       293         1    999         0           1.1   \n",
       "14            14   35       146         1    999         0           1.1   \n",
       "15            15   54       174         1    999         0           1.1   \n",
       "16            16   35       312         1    999         0           1.1   \n",
       "17            17   46       440         1    999         0           1.1   \n",
       "18            18   50       353         1    999         0           1.1   \n",
       "19            19   39       195         1    999         0           1.1   \n",
       "20            20   30        38         1    999         0           1.1   \n",
       "21            21   55       262         1    999         0           1.1   \n",
       "22            22   55       342         1    999         0           1.1   \n",
       "23            23   41       181         1    999         0           1.1   \n",
       "24            24   37       172         1    999         0           1.1   \n",
       "25            25   35        99         1    999         0           1.1   \n",
       "26            26   59        93         1    999         0           1.1   \n",
       "27            27   39       233         1    999         0           1.1   \n",
       "28            28   54       255         2    999         0           1.1   \n",
       "29            29   55       362         1    999         0           1.1   \n",
       "...          ...  ...       ...       ...    ...       ...           ...   \n",
       "9610       41128   31       456         2    999         0          -1.1   \n",
       "9611       41130   31       260         1    999         0          -1.1   \n",
       "9612       41132   41       597         2      3         2          -1.1   \n",
       "9613       41134   25       244         1    999         0          -1.1   \n",
       "9614       41138   58       344         2    999         0          -1.1   \n",
       "9615       41140   33       237         2    999         0          -1.1   \n",
       "9616       41141   37       315         1    999         0          -1.1   \n",
       "9617       41142   43       741         4    999         2          -1.1   \n",
       "9618       41145   26       528         3    999         0          -1.1   \n",
       "9619       41146   41       252         4    999         0          -1.1   \n",
       "9620       41147   25       712         2     19         1          -1.1   \n",
       "9621       41148   35       397         3    999         0          -1.1   \n",
       "9622       41151   41       526         2      6         1          -1.1   \n",
       "9623       41153   67       655         2      5         5          -1.1   \n",
       "9624       41156   41       545         2    999         0          -1.1   \n",
       "9625       41158   35       363         1    999         0          -1.1   \n",
       "9626       41159   35       514         1      9         4          -1.1   \n",
       "9627       41160   33       843         1    999         0          -1.1   \n",
       "9628       41163   35       385         3      4         2          -1.1   \n",
       "9629       41164   54      1868         2     10         1          -1.1   \n",
       "9630       41165   38       403         2    999         0          -1.1   \n",
       "9631       41166   32       651         1    999         1          -1.1   \n",
       "9632       41171   33       112         1    999         0          -1.1   \n",
       "9633       41172   31       353         1    999         0          -1.1   \n",
       "9634       41173   62       329         1    999         2          -1.1   \n",
       "9635       41174   62       208         1      1         6          -1.1   \n",
       "9636       41178   62       483         2      6         3          -1.1   \n",
       "9637       41181   37       281         1    999         0          -1.1   \n",
       "9638       41183   73       334         1    999         0          -1.1   \n",
       "9639       41186   44       442         1    999         0          -1.1   \n",
       "\n",
       "      cons.price.idx  cons.conf.idx  euribor3m ...  month_sep  \\\n",
       "0             93.994          -36.4      4.857 ...          0   \n",
       "1             93.994          -36.4      4.857 ...          0   \n",
       "2             93.994          -36.4      4.857 ...          0   \n",
       "3             93.994          -36.4      4.857 ...          0   \n",
       "4             93.994          -36.4      4.857 ...          0   \n",
       "5             93.994          -36.4      4.857 ...          0   \n",
       "6             93.994          -36.4      4.857 ...          0   \n",
       "7             93.994          -36.4      4.857 ...          0   \n",
       "8             93.994          -36.4      4.857 ...          0   \n",
       "9             93.994          -36.4      4.857 ...          0   \n",
       "10            93.994          -36.4      4.857 ...          0   \n",
       "11            93.994          -36.4      4.857 ...          0   \n",
       "12            93.994          -36.4      4.857 ...          0   \n",
       "13            93.994          -36.4      4.857 ...          0   \n",
       "14            93.994          -36.4      4.857 ...          0   \n",
       "15            93.994          -36.4      4.857 ...          0   \n",
       "16            93.994          -36.4      4.857 ...          0   \n",
       "17            93.994          -36.4      4.857 ...          0   \n",
       "18            93.994          -36.4      4.857 ...          0   \n",
       "19            93.994          -36.4      4.857 ...          0   \n",
       "20            93.994          -36.4      4.857 ...          0   \n",
       "21            93.994          -36.4      4.857 ...          0   \n",
       "22            93.994          -36.4      4.857 ...          0   \n",
       "23            93.994          -36.4      4.857 ...          0   \n",
       "24            93.994          -36.4      4.857 ...          0   \n",
       "25            93.994          -36.4      4.857 ...          0   \n",
       "26            93.994          -36.4      4.857 ...          0   \n",
       "27            93.994          -36.4      4.857 ...          0   \n",
       "28            93.994          -36.4      4.857 ...          0   \n",
       "29            93.994          -36.4      4.857 ...          0   \n",
       "...              ...            ...        ... ...        ...   \n",
       "9610          94.767          -50.8      1.044 ...          0   \n",
       "9611          94.767          -50.8      1.041 ...          0   \n",
       "9612          94.767          -50.8      1.041 ...          0   \n",
       "9613          94.767          -50.8      1.041 ...          0   \n",
       "9614          94.767          -50.8      1.041 ...          0   \n",
       "9615          94.767          -50.8      1.040 ...          0   \n",
       "9616          94.767          -50.8      1.040 ...          0   \n",
       "9617          94.767          -50.8      1.040 ...          0   \n",
       "9618          94.767          -50.8      1.040 ...          0   \n",
       "9619          94.767          -50.8      1.040 ...          0   \n",
       "9620          94.767          -50.8      1.040 ...          0   \n",
       "9621          94.767          -50.8      1.040 ...          0   \n",
       "9622          94.767          -50.8      1.039 ...          0   \n",
       "9623          94.767          -50.8      1.039 ...          0   \n",
       "9624          94.767          -50.8      1.039 ...          0   \n",
       "9625          94.767          -50.8      1.035 ...          0   \n",
       "9626          94.767          -50.8      1.035 ...          0   \n",
       "9627          94.767          -50.8      1.035 ...          0   \n",
       "9628          94.767          -50.8      1.035 ...          0   \n",
       "9629          94.767          -50.8      1.035 ...          0   \n",
       "9630          94.767          -50.8      1.030 ...          0   \n",
       "9631          94.767          -50.8      1.030 ...          0   \n",
       "9632          94.767          -50.8      1.031 ...          0   \n",
       "9633          94.767          -50.8      1.031 ...          0   \n",
       "9634          94.767          -50.8      1.031 ...          0   \n",
       "9635          94.767          -50.8      1.031 ...          0   \n",
       "9636          94.767          -50.8      1.031 ...          0   \n",
       "9637          94.767          -50.8      1.028 ...          0   \n",
       "9638          94.767          -50.8      1.028 ...          0   \n",
       "9639          94.767          -50.8      1.028 ...          0   \n",
       "\n",
       "      day_of_week_fri  day_of_week_mon  day_of_week_thu  day_of_week_tue  \\\n",
       "0                   0                1                0                0   \n",
       "1                   0                1                0                0   \n",
       "2                   0                1                0                0   \n",
       "3                   0                1                0                0   \n",
       "4                   0                1                0                0   \n",
       "5                   0                1                0                0   \n",
       "6                   0                1                0                0   \n",
       "7                   0                1                0                0   \n",
       "8                   0                1                0                0   \n",
       "9                   0                1                0                0   \n",
       "10                  0                1                0                0   \n",
       "11                  0                1                0                0   \n",
       "12                  0                1                0                0   \n",
       "13                  0                1                0                0   \n",
       "14                  0                1                0                0   \n",
       "15                  0                1                0                0   \n",
       "16                  0                1                0                0   \n",
       "17                  0                1                0                0   \n",
       "18                  0                1                0                0   \n",
       "19                  0                1                0                0   \n",
       "20                  0                1                0                0   \n",
       "21                  0                1                0                0   \n",
       "22                  0                1                0                0   \n",
       "23                  0                1                0                0   \n",
       "24                  0                1                0                0   \n",
       "25                  0                1                0                0   \n",
       "26                  0                1                0                0   \n",
       "27                  0                1                0                0   \n",
       "28                  0                1                0                0   \n",
       "29                  0                1                0                0   \n",
       "...               ...              ...              ...              ...   \n",
       "9610                0                0                0                0   \n",
       "9611                0                0                1                0   \n",
       "9612                0                0                1                0   \n",
       "9613                0                0                1                0   \n",
       "9614                0                0                1                0   \n",
       "9615                1                0                0                0   \n",
       "9616                1                0                0                0   \n",
       "9617                1                0                0                0   \n",
       "9618                1                0                0                0   \n",
       "9619                1                0                0                0   \n",
       "9620                1                0                0                0   \n",
       "9621                1                0                0                0   \n",
       "9622                0                1                0                0   \n",
       "9623                0                1                0                0   \n",
       "9624                0                1                0                0   \n",
       "9625                0                0                0                1   \n",
       "9626                0                0                0                1   \n",
       "9627                0                0                0                1   \n",
       "9628                0                0                0                1   \n",
       "9629                0                0                0                1   \n",
       "9630                0                0                0                0   \n",
       "9631                0                0                0                0   \n",
       "9632                0                0                1                0   \n",
       "9633                0                0                1                0   \n",
       "9634                0                0                1                0   \n",
       "9635                0                0                1                0   \n",
       "9636                0                0                1                0   \n",
       "9637                1                0                0                0   \n",
       "9638                1                0                0                0   \n",
       "9639                1                0                0                0   \n",
       "\n",
       "      day_of_week_wed  poutcome_failure  poutcome_nonexistent  \\\n",
       "0                   0                 0                     1   \n",
       "1                   0                 0                     1   \n",
       "2                   0                 0                     1   \n",
       "3                   0                 0                     1   \n",
       "4                   0                 0                     1   \n",
       "5                   0                 0                     1   \n",
       "6                   0                 0                     1   \n",
       "7                   0                 0                     1   \n",
       "8                   0                 0                     1   \n",
       "9                   0                 0                     1   \n",
       "10                  0                 0                     1   \n",
       "11                  0                 0                     1   \n",
       "12                  0                 0                     1   \n",
       "13                  0                 0                     1   \n",
       "14                  0                 0                     1   \n",
       "15                  0                 0                     1   \n",
       "16                  0                 0                     1   \n",
       "17                  0                 0                     1   \n",
       "18                  0                 0                     1   \n",
       "19                  0                 0                     1   \n",
       "20                  0                 0                     1   \n",
       "21                  0                 0                     1   \n",
       "22                  0                 0                     1   \n",
       "23                  0                 0                     1   \n",
       "24                  0                 0                     1   \n",
       "25                  0                 0                     1   \n",
       "26                  0                 0                     1   \n",
       "27                  0                 0                     1   \n",
       "28                  0                 0                     1   \n",
       "29                  0                 0                     1   \n",
       "...               ...               ...                   ...   \n",
       "9610                1                 0                     1   \n",
       "9611                0                 0                     1   \n",
       "9612                0                 0                     0   \n",
       "9613                0                 0                     1   \n",
       "9614                0                 0                     1   \n",
       "9615                0                 0                     1   \n",
       "9616                0                 0                     1   \n",
       "9617                0                 1                     0   \n",
       "9618                0                 0                     1   \n",
       "9619                0                 0                     1   \n",
       "9620                0                 0                     0   \n",
       "9621                0                 0                     1   \n",
       "9622                0                 0                     0   \n",
       "9623                0                 0                     0   \n",
       "9624                0                 0                     1   \n",
       "9625                0                 0                     1   \n",
       "9626                0                 0                     0   \n",
       "9627                0                 0                     1   \n",
       "9628                0                 0                     0   \n",
       "9629                0                 0                     0   \n",
       "9630                1                 0                     1   \n",
       "9631                1                 1                     0   \n",
       "9632                0                 0                     1   \n",
       "9633                0                 0                     1   \n",
       "9634                0                 1                     0   \n",
       "9635                0                 0                     0   \n",
       "9636                0                 0                     0   \n",
       "9637                0                 0                     1   \n",
       "9638                0                 0                     1   \n",
       "9639                0                 0                     1   \n",
       "\n",
       "      poutcome_success  y  \n",
       "0                    0  0  \n",
       "1                    0  0  \n",
       "2                    0  0  \n",
       "3                    0  0  \n",
       "4                    0  0  \n",
       "5                    0  0  \n",
       "6                    0  0  \n",
       "7                    0  0  \n",
       "8                    0  0  \n",
       "9                    0  0  \n",
       "10                   0  0  \n",
       "11                   0  0  \n",
       "12                   0  0  \n",
       "13                   0  0  \n",
       "14                   0  0  \n",
       "15                   0  0  \n",
       "16                   0  0  \n",
       "17                   0  0  \n",
       "18                   0  0  \n",
       "19                   0  0  \n",
       "20                   0  0  \n",
       "21                   0  0  \n",
       "22                   0  0  \n",
       "23                   0  0  \n",
       "24                   0  0  \n",
       "25                   0  0  \n",
       "26                   0  0  \n",
       "27                   0  0  \n",
       "28                   0  0  \n",
       "29                   0  0  \n",
       "...                ... ..  \n",
       "9610                 0  1  \n",
       "9611                 0  1  \n",
       "9612                 1  1  \n",
       "9613                 0  1  \n",
       "9614                 0  1  \n",
       "9615                 0  1  \n",
       "9616                 0  1  \n",
       "9617                 0  1  \n",
       "9618                 0  1  \n",
       "9619                 0  1  \n",
       "9620                 1  1  \n",
       "9621                 0  1  \n",
       "9622                 1  1  \n",
       "9623                 1  1  \n",
       "9624                 0  1  \n",
       "9625                 0  1  \n",
       "9626                 1  1  \n",
       "9627                 0  1  \n",
       "9628                 1  1  \n",
       "9629                 1  1  \n",
       "9630                 0  1  \n",
       "9631                 0  1  \n",
       "9632                 0  1  \n",
       "9633                 0  1  \n",
       "9634                 0  1  \n",
       "9635                 1  1  \n",
       "9636                 1  1  \n",
       "9637                 0  1  \n",
       "9638                 0  1  \n",
       "9639                 0  1  \n",
       "\n",
       "[9640 rows x 65 columns]>"
      ]
     },
     "execution_count": 67,
     "metadata": {},
     "output_type": "execute_result"
    }
   ],
   "source": [
    "# When in doubt about a method, you can either go to the official documentation (just google the library and method name), or use our good friend (?) \n",
    "\n",
    "# For example:\n",
    "df.to_csv"
   ]
  },
  {
   "cell_type": "code",
   "execution_count": null,
   "metadata": {
    "collapsed": true
   },
   "outputs": [],
   "source": [
    "# Pick another random method of df and find out what it does by using '?' \n",
    "\n",
    "# YOUR CODE HERE:"
   ]
  },
  {
   "cell_type": "code",
   "execution_count": 69,
   "metadata": {},
   "outputs": [
    {
     "data": {
      "text/plain": [
       "Index([u'Unnamed: 0', u'age', u'duration', u'campaign', u'pdays', u'previous',\n",
       "       u'emp.var.rate', u'cons.price.idx', u'cons.conf.idx', u'euribor3m',\n",
       "       u'nr.employed', u'job_admin.', u'job_blue-collar', u'job_entrepreneur',\n",
       "       u'job_housemaid', u'job_management', u'job_retired',\n",
       "       u'job_self-employed', u'job_services', u'job_student',\n",
       "       u'job_technician', u'job_unemployed', u'job_unknown',\n",
       "       u'marital_divorced', u'marital_married', u'marital_single',\n",
       "       u'marital_unknown', u'education_basic.4y', u'education_basic.6y',\n",
       "       u'education_basic.9y', u'education_high.school',\n",
       "       u'education_illiterate', u'education_professional.course',\n",
       "       u'education_university.degree', u'education_unknown', u'default_no',\n",
       "       u'default_unknown', u'default_yes', u'housing_no', u'housing_unknown',\n",
       "       u'housing_yes', u'loan_no', u'loan_unknown', u'loan_yes',\n",
       "       u'contact_cellular', u'contact_telephone', u'month_apr', u'month_aug',\n",
       "       u'month_dec', u'month_jul', u'month_jun', u'month_mar', u'month_may',\n",
       "       u'month_nov', u'month_oct', u'month_sep', u'day_of_week_fri',\n",
       "       u'day_of_week_mon', u'day_of_week_thu', u'day_of_week_tue',\n",
       "       u'day_of_week_wed', u'poutcome_failure', u'poutcome_nonexistent',\n",
       "       u'poutcome_success', u'y'],\n",
       "      dtype='object')"
      ]
     },
     "execution_count": 69,
     "metadata": {},
     "output_type": "execute_result"
    }
   ],
   "source": [
    "# Some useful pandas methods:\n",
    "# df.head(), df.head(7)\n",
    "# df.describe()\n",
    "# df.columns #Note: this is not a method, but an attribute. Notice that there are no brackets ()\n",
    "\n",
    "df.columns"
   ]
  },
  {
   "cell_type": "code",
   "execution_count": 70,
   "metadata": {},
   "outputs": [
    {
     "data": {
      "text/plain": [
       "0       56\n",
       "1       57\n",
       "2       37\n",
       "3       40\n",
       "4       56\n",
       "5       45\n",
       "6       59\n",
       "7       41\n",
       "8       24\n",
       "9       25\n",
       "10      41\n",
       "11      25\n",
       "12      29\n",
       "13      57\n",
       "14      35\n",
       "15      54\n",
       "16      35\n",
       "17      46\n",
       "18      50\n",
       "19      39\n",
       "20      30\n",
       "21      55\n",
       "22      55\n",
       "23      41\n",
       "24      37\n",
       "25      35\n",
       "26      59\n",
       "27      39\n",
       "28      54\n",
       "29      55\n",
       "        ..\n",
       "9610    31\n",
       "9611    31\n",
       "9612    41\n",
       "9613    25\n",
       "9614    58\n",
       "9615    33\n",
       "9616    37\n",
       "9617    43\n",
       "9618    26\n",
       "9619    41\n",
       "9620    25\n",
       "9621    35\n",
       "9622    41\n",
       "9623    67\n",
       "9624    41\n",
       "9625    35\n",
       "9626    35\n",
       "9627    33\n",
       "9628    35\n",
       "9629    54\n",
       "9630    38\n",
       "9631    32\n",
       "9632    33\n",
       "9633    31\n",
       "9634    62\n",
       "9635    62\n",
       "9636    62\n",
       "9637    37\n",
       "9638    73\n",
       "9639    44\n",
       "Name: age, Length: 9640, dtype: int64"
      ]
     },
     "execution_count": 70,
     "metadata": {},
     "output_type": "execute_result"
    }
   ],
   "source": [
    "# pd.Series\n",
    "# A series is like a column in table.\n",
    "# You can access series by referring to its column name:\n",
    "# Example:\n",
    "df['age']\n",
    "\n",
    "# Try accessing other columns! (Use df.columns to see what columns are available to you)"
   ]
  },
  {
   "cell_type": "code",
   "execution_count": 71,
   "metadata": {},
   "outputs": [
    {
     "data": {
      "text/plain": [
       "33    420\n",
       "36    419\n",
       "31    396\n",
       "35    395\n",
       "32    372\n",
       "34    370\n",
       "30    356\n",
       "38    338\n",
       "39    333\n",
       "37    332\n",
       "29    311\n",
       "41    301\n",
       "28    280\n",
       "42    271\n",
       "45    258\n",
       "40    257\n",
       "43    251\n",
       "48    234\n",
       "46    223\n",
       "44    213\n",
       "50    201\n",
       "47    185\n",
       "26    185\n",
       "27    185\n",
       "49    181\n",
       "52    179\n",
       "51    178\n",
       "56    177\n",
       "53    166\n",
       "57    154\n",
       "     ... \n",
       "65     23\n",
       "71     21\n",
       "19     20\n",
       "70     19\n",
       "76     18\n",
       "80     18\n",
       "63     17\n",
       "68     15\n",
       "74     15\n",
       "78     14\n",
       "69     14\n",
       "73     13\n",
       "77     13\n",
       "72     13\n",
       "18     12\n",
       "75     11\n",
       "82     11\n",
       "67     11\n",
       "88      9\n",
       "83      8\n",
       "81      8\n",
       "79      7\n",
       "85      7\n",
       "86      5\n",
       "84      3\n",
       "92      3\n",
       "17      2\n",
       "89      2\n",
       "98      2\n",
       "87      1\n",
       "Name: age, Length: 75, dtype: int64"
      ]
     },
     "execution_count": 71,
     "metadata": {},
     "output_type": "execute_result"
    }
   ],
   "source": [
    "# we can see unique values in a series by using the .value_counts() method\n",
    "df['y'].value_counts()\n",
    "\n",
    "df[\"age\"].value_counts()"
   ]
  },
  {
   "cell_type": "markdown",
   "metadata": {},
   "source": [
    "# Hello Shell"
   ]
  },
  {
   "cell_type": "markdown",
   "metadata": {},
   "source": [
    "To run shell commands in jupyter notebook, simply prefix the command with an exclamation mark (!)"
   ]
  },
  {
   "cell_type": "code",
   "execution_count": null,
   "metadata": {
    "collapsed": true
   },
   "outputs": [],
   "source": [
    "# to list the contents of a directory\n",
    "!ls"
   ]
  },
  {
   "cell_type": "code",
   "execution_count": null,
   "metadata": {
    "collapsed": true
   },
   "outputs": [],
   "source": [
    "# to print working (i.e. current) directory\n",
    "!pwd"
   ]
  },
  {
   "cell_type": "code",
   "execution_count": null,
   "metadata": {
    "collapsed": true
   },
   "outputs": [],
   "source": [
    "# to change directory\n",
    "# cd <name-of-directory>\n",
    "\n",
    "! cd .. && pwd"
   ]
  },
  {
   "cell_type": "code",
   "execution_count": null,
   "metadata": {
    "collapsed": true,
    "scrolled": true
   },
   "outputs": [],
   "source": [
    "# To join shell commands, use &&\n",
    "! cd ../.. && pwd\n",
    "! cd data/bank-marketing-data && ls -l # -l are options of the ls command"
   ]
  },
  {
   "cell_type": "code",
   "execution_count": null,
   "metadata": {
    "collapsed": true
   },
   "outputs": [],
   "source": [
    "# Hello git"
   ]
  },
  {
   "cell_type": "code",
   "execution_count": null,
   "metadata": {
    "collapsed": true
   },
   "outputs": [],
   "source": [
    "# 1. Create git repository in a folder\n",
    "!git init"
   ]
  },
  {
   "cell_type": "code",
   "execution_count": null,
   "metadata": {
    "collapsed": true
   },
   "outputs": [],
   "source": [
    "# 2. Connect your local repository (i.e. on your desktop) to the remote repository (e.g. on github.com)\n",
    "!git remote add origin YOUR_GITHUB_REPO_URL"
   ]
  },
  {
   "cell_type": "code",
   "execution_count": null,
   "metadata": {
    "collapsed": true
   },
   "outputs": [],
   "source": [
    "# 3. See the status of your git commits (this command can be run at anytime)\n",
    "!git status"
   ]
  },
  {
   "cell_type": "code",
   "execution_count": null,
   "metadata": {
    "collapsed": true
   },
   "outputs": [],
   "source": [
    "# 3. Add your files to staging\n",
    "!git add . # . means everything in the current working directory\n",
    "# you can also add files or directories individually (e.g. git add my-file; git add my-directory/my-file; git add my-directory)"
   ]
  },
  {
   "cell_type": "code",
   "execution_count": null,
   "metadata": {
    "collapsed": true
   },
   "outputs": [],
   "source": [
    "# 4. Commit your files to the repo\n",
    "!git commit -m \"your awesome commit message\""
   ]
  },
  {
   "cell_type": "code",
   "execution_count": null,
   "metadata": {
    "collapsed": true
   },
   "outputs": [],
   "source": [
    "# !git push -u origin master\n",
    "!git push https://<your_username>:<your_password>@https://YOUR_GITHUB_REPO_URL --all"
   ]
  },
  {
   "cell_type": "code",
   "execution_count": null,
   "metadata": {
    "collapsed": true
   },
   "outputs": [],
   "source": []
  }
 ],
 "metadata": {
  "kernelspec": {
   "display_name": "Python [conda root]",
   "language": "python",
   "name": "conda-root-py"
  },
  "language_info": {
   "codemirror_mode": {
    "name": "ipython",
    "version": 2
   },
   "file_extension": ".py",
   "mimetype": "text/x-python",
   "name": "python",
   "nbconvert_exporter": "python",
   "pygments_lexer": "ipython2",
   "version": "2.7.13"
  }
 },
 "nbformat": 4,
 "nbformat_minor": 2
}
