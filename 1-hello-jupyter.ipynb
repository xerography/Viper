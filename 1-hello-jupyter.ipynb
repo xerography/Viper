{
 "cells": [
  {
   "cell_type": "markdown",
   "metadata": {},
   "source": [
    "# Hello Jupyter Notebook"
   ]
  },
  {
   "cell_type": "markdown",
   "metadata": {},
   "source": [
    "Jupyter notebooks is a great code editor for machine learning. Play around with the following cells to familiarize yourself with it."
   ]
  },
  {
   "cell_type": "markdown",
   "metadata": {},
   "source": [
    "### Cheat sheet\n",
    "\n",
    "1. Double-click me!\n",
    "2. Now you see me in edit mode (see the green box around me?) This means you can write stuff.\n",
    "3. Now, hit Escape on your keyboard (see the box turn blue?) This means you are in command mode and can do lots of cool stuff. Try any of the following:\n",
    "  - H (see **H**elp page)\n",
    "  - A (insert cell **A**bove)\n",
    "  - B (insert cell **B**elow)\n",
    "4. Now, click me again, and execute me by running **Shift + Enter**. This is how you execute code in Jupyter. Try executing the following cells\n",
    "  "
   ]
  },
  {
   "cell_type": "code",
   "execution_count": null,
   "metadata": {
    "collapsed": true
   },
   "outputs": [],
   "source": [
    "print('Hello world!')"
   ]
  },
  {
   "cell_type": "code",
   "execution_count": null,
   "metadata": {
    "collapsed": true
   },
   "outputs": [],
   "source": [
    "100/10*5"
   ]
  },
  {
   "cell_type": "markdown",
   "metadata": {},
   "source": [
    "# Hello Python"
   ]
  },
  {
   "cell_type": "markdown",
   "metadata": {},
   "source": [
    "Things to cover:\n",
    "\n",
    "- variables\n",
    "- boolean operators\n",
    "- functions - \n",
    "  - definition\n",
    "  - invocation - with a ()\n",
    "  - parameters/arguments\n",
    "  - how to read the docs with ?\n",
    "- print()\n",
    "- \\# This is a comment\n",
    "- array\n",
    "  - my_array[:]\n",
    "- objects (and methods) (how to instantiate them, and how to see them with autocomplete)\n",
    "- object methods (touch on classes)\n",
    "- how to read error messages\n",
    "\n",
    "- pandas\n",
    "  - how to load the library\n",
    "  - dataframes and methods\n",
    "     - read_csv()\n",
    "     - head()\n",
    "     - describe()\n",
    "     - iloc[:, :]\n",
    "  - series and methods\n",
    "     - value_counts()"
   ]
  },
  {
   "cell_type": "markdown",
   "metadata": {},
   "source": [
    "# Hello Shell"
   ]
  },
  {
   "cell_type": "markdown",
   "metadata": {},
   "source": [
    "To run shell commands in jupyter notebook, simply prefix the command with an exclamation mark (!)"
   ]
  },
  {
   "cell_type": "code",
   "execution_count": null,
   "metadata": {
    "collapsed": true
   },
   "outputs": [],
   "source": [
    "# to list the contents of a directory\n",
    "!ls"
   ]
  },
  {
   "cell_type": "code",
   "execution_count": null,
   "metadata": {
    "collapsed": true
   },
   "outputs": [],
   "source": [
    "# to print working (i.e. current) directory\n",
    "!pwd"
   ]
  },
  {
   "cell_type": "code",
   "execution_count": null,
   "metadata": {
    "collapsed": true
   },
   "outputs": [],
   "source": [
    "# to change directory\n",
    "# cd <name-of-directory>\n",
    "\n",
    "! cd .. && pwd"
   ]
  },
  {
   "cell_type": "code",
   "execution_count": null,
   "metadata": {
    "collapsed": true,
    "scrolled": true
   },
   "outputs": [],
   "source": [
    "# To join shell commands, use &&\n",
    "! cd ../.. && pwd\n",
    "! cd data/bank-marketing-data && ls -l # -l are options of the ls command"
   ]
  },
  {
   "cell_type": "code",
   "execution_count": null,
   "metadata": {
    "collapsed": true
   },
   "outputs": [],
   "source": [
    "# Hello git"
   ]
  },
  {
   "cell_type": "code",
   "execution_count": 1,
   "metadata": {},
   "outputs": [
    {
     "name": "stdout",
     "output_type": "stream",
     "text": [
      "Reinitialized existing Git repository in /home/ubuntu/code/sim-workshop/workshop-repo-11/.git/\r\n"
     ]
    }
   ],
   "source": [
    "# 1. Create git repository in a folder\n",
    "!git init"
   ]
  },
  {
   "cell_type": "code",
   "execution_count": 7,
   "metadata": {},
   "outputs": [],
   "source": [
    "# 2. Connect your local repository (i.e. on your desktop) to the remote repository (e.g. on github.com)\n",
    "!git remote set-url origin https://github.com/xerography/Viper"
   ]
  },
  {
   "cell_type": "code",
   "execution_count": 8,
   "metadata": {},
   "outputs": [
    {
     "name": "stdout",
     "output_type": "stream",
     "text": [
      "On branch master\r\n",
      "Your branch is ahead of 'origin/master' by 1 commit.\r\n",
      "  (use \"git push\" to publish your local commits)\r\n",
      "Changes not staged for commit:\r\n",
      "  (use \"git add <file>...\" to update what will be committed)\r\n",
      "  (use \"git checkout -- <file>...\" to discard changes in working directory)\r\n",
      "\r\n",
      "\t\u001b[31mmodified:   1-hello-jupyter.ipynb\u001b[m\r\n",
      "\r\n",
      "no changes added to commit (use \"git add\" and/or \"git commit -a\")\r\n"
     ]
    }
   ],
   "source": [
    "# 3. See the status of your git commits (this command can be run at anytime)\n",
    "!git status"
   ]
  },
  {
   "cell_type": "code",
   "execution_count": 14,
   "metadata": {
    "collapsed": true
   },
   "outputs": [],
   "source": [
    "# 3. Add your files to staging\n",
    "!git add . # . means everything in the current working directory\n",
    "# you can also add files or directories individually (e.g. git add my-file; git add my-directory/my-file; git add my-directory)"
   ]
  },
  {
   "cell_type": "code",
   "execution_count": 25,
   "metadata": {},
   "outputs": [
    {
     "name": "stdout",
     "output_type": "stream",
     "text": [
      "On branch master\r\n",
      "Your branch is ahead of 'origin/master' by 2 commits.\r\n",
      "  (use \"git push\" to publish your local commits)\r\n",
      "Changes not staged for commit:\r\n",
      "\t\u001b[31mmodified:   1-hello-jupyter.ipynb\u001b[m\r\n",
      "\t\u001b[31mmodified:   comparing-models.ipynb\u001b[m\r\n",
      "\r\n",
      "no changes added to commit\r\n"
     ]
    }
   ],
   "source": [
    "# 4. Commit your files to the local repo\n",
    "!git commit -m \"Commited-Project\""
   ]
  },
  {
   "cell_type": "code",
   "execution_count": 26,
   "metadata": {},
   "outputs": [
    {
     "name": "stdout",
     "output_type": "stream",
     "text": [
      "/bin/sh: 1: cannot open xerography: No such file\r\n"
     ]
    }
   ],
   "source": [
    "# 5. Push your commits to the remote repo\n",
    "!git push https://<xerography>:Mc789852@github.com/davified/sim-sckit-learn--all\n",
    "# WARNING: DO NOT commit your password for the world to see!! Delete the line above before saving this repo"
   ]
  },
  {
   "cell_type": "code",
   "execution_count": null,
   "metadata": {
    "collapsed": true
   },
   "outputs": [],
   "source": []
  },
  {
   "cell_type": "code",
   "execution_count": null,
   "metadata": {
    "collapsed": true
   },
   "outputs": [],
   "source": []
  }
 ],
 "metadata": {
  "kernelspec": {
   "display_name": "Python [conda root]",
   "language": "python",
   "name": "conda-root-py"
  },
  "language_info": {
   "codemirror_mode": {
    "name": "ipython",
    "version": 2
   },
   "file_extension": ".py",
   "mimetype": "text/x-python",
   "name": "python",
   "nbconvert_exporter": "python",
   "pygments_lexer": "ipython2",
   "version": "2.7.13"
  }
 },
 "nbformat": 4,
 "nbformat_minor": 2
}
