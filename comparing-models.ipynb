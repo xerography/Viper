{
 "cells": [
  {
   "cell_type": "markdown",
   "metadata": {},
   "source": [
    "# Training classification models"
   ]
  },
  {
   "cell_type": "markdown",
   "metadata": {},
   "source": [
    "This notebook demonstrates how you can follow a similar process for training a model using:\n",
    "- Logistic Regression Classifier\n",
    "- Naive Bayes Classifier\n",
    "- KNearest Neighbour Classifier\n",
    "- Decision Tree Classifier\n",
    "- Support Vector Machine Classifier\n",
    "- Random Forest Classifier\n",
    "\n",
    "The process of training different models follow similar patterns:\n",
    "1. prepare data into a format that `sklearn` can understand (i.e. target data in a 2-dimensional array, and target data in a 1-dimensional array)\n",
    "2. split data into training set and test set\n",
    "3. choose a model (e.g. LinearRegression, LogisticRegression, RandomForestClassifier, etc) and train the model using the `.fit()` method\n",
    "4. Evaluate model\n",
    "5. Tune / improve the model"
   ]
  },
  {
   "cell_type": "code",
   "execution_count": 1,
   "metadata": {
    "collapsed": true
   },
   "outputs": [],
   "source": [
    "# load libraries\n",
    "import pandas as pd\n",
    "from sklearn import datasets\n",
    "from sklearn import metrics\n",
    "from sklearn.model_selection import train_test_split"
   ]
  },
  {
   "cell_type": "code",
   "execution_count": 5,
   "metadata": {
    "collapsed": true
   },
   "outputs": [],
   "source": [
    "# defining some helper methods\n",
    "def print_header(title):\n",
    "    print(\"\\n\" + title + \":\\n\")\n",
    "    \n",
    "def print_model_header(title):\n",
    "    newline = \"\\n=====================================================\\n\"\n",
    "    print(newline + title + newline)\n",
    "\n",
    "def generate_evaluation_tables(model, data, target):\n",
    "    X_train, X_test, y_train, y_test = train_test_split(data, target, random_state=0)\n",
    "    print_model_header(type(model).__name__)\n",
    "    # Evaluate our model\n",
    "    training_score = model.score(X_train, y_train)\n",
    "    test_score = model.score(X_test, y_test)\n",
    "    print_header(\"COMPARING SCORES OF TRAINING AND TEST SET\")\n",
    "    print(\"training set score: %f\" % training_score)\n",
    "    print(\"test set score: %f\" % test_score)\n",
    "\n",
    "    # Make predictions\n",
    "    expected = y\n",
    "    predicted = model.predict(X)\n",
    "    print_header(\"CLASSIFICATION REPORT\")\n",
    "    classification_report = metrics.classification_report(expected, predicted)\n",
    "    print(classification_report)\n",
    "\n",
    "    print_header(\"CONFUSION MATRIX\")\n",
    "    confusion_matrix = metrics.confusion_matrix(expected, predicted)\n",
    "    print(confusion_matrix)"
   ]
  },
  {
   "cell_type": "markdown",
   "metadata": {},
   "source": [
    "## 1. Load and prepare data in X and y format"
   ]
  },
  {
   "cell_type": "code",
   "execution_count": 6,
   "metadata": {
    "collapsed": true
   },
   "outputs": [],
   "source": [
    "df = pd.read_csv('./data/bank-marketing-data/bank-additional-one-hot-encoded.csv')\n",
    "\n",
    "y = df['y'].as_matrix()\n",
    "del df['y']\n",
    "\n",
    "X = df.as_matrix()"
   ]
  },
  {
   "cell_type": "markdown",
   "metadata": {},
   "source": [
    "## 2. Split data into train and test set"
   ]
  },
  {
   "cell_type": "code",
   "execution_count": 7,
   "metadata": {
    "collapsed": true
   },
   "outputs": [],
   "source": [
    "X_train, X_test, y_train, y_test = train_test_split(X, y, random_state=0)"
   ]
  },
  {
   "cell_type": "markdown",
   "metadata": {},
   "source": [
    "## 3. Choose a model and train the model using the .fit() method"
   ]
  },
  {
   "cell_type": "markdown",
   "metadata": {},
   "source": [
    "### Logistic Regression"
   ]
  },
  {
   "cell_type": "code",
   "execution_count": 8,
   "metadata": {},
   "outputs": [
    {
     "data": {
      "text/plain": [
       "Ridge(alpha=1.0, copy_X=True, fit_intercept=True, max_iter=None,\n",
       "   normalize=False, random_state=None, solver='auto', tol=0.001)"
      ]
     },
     "execution_count": 8,
     "metadata": {},
     "output_type": "execute_result"
    }
   ],
   "source": [
    "# Choose our model and train our model \n",
    "from sklearn.linear_model import Ridge        ## IMPORTANT: These 2 lines are the only lines that \n",
    "ridge_regression_model = Ridge()               ## you need to change to build a different model\n",
    "ridge_regression_model.fit(X_train, y_train)"
   ]
  },
  {
   "cell_type": "code",
   "execution_count": 9,
   "metadata": {
    "scrolled": true
   },
   "outputs": [
    {
     "data": {
      "text/plain": [
       "LogisticRegression(C=1.0, class_weight=None, dual=False, fit_intercept=True,\n",
       "          intercept_scaling=1, max_iter=100, multi_class='ovr', n_jobs=1,\n",
       "          penalty='l2', random_state=None, solver='liblinear', tol=0.0001,\n",
       "          verbose=0, warm_start=False)"
      ]
     },
     "execution_count": 9,
     "metadata": {},
     "output_type": "execute_result"
    }
   ],
   "source": [
    "# Choose our model and train our model \n",
    "from sklearn.linear_model import LogisticRegression     ## IMPORTANT: These 2 lines are the only lines that \n",
    "logistic_regression_model = LogisticRegression()        ## you need to change to build a different model\n",
    "logistic_regression_model.fit(X_train, y_train)"
   ]
  },
  {
   "cell_type": "code",
   "execution_count": 14,
   "metadata": {},
   "outputs": [
    {
     "name": "stdout",
     "output_type": "stream",
     "text": [
      "\n",
      "COMPARING SCORES OF TRAINING AND TEST SET:\n",
      "\n",
      "training set score: 0.908906\n",
      "test set score: 0.912013\n",
      "\n",
      "CLASSIFICATION REPORT:\n",
      "\n",
      "             precision    recall  f1-score   support\n",
      "\n",
      "          0       0.93      0.97      0.95     36548\n",
      "          1       0.66      0.40      0.50      4640\n",
      "\n",
      "avg / total       0.90      0.91      0.90     41188\n",
      "\n",
      "\n",
      "CONFUSION MATRIX:\n",
      "\n",
      "[[35613   935]\n",
      " [ 2785  1855]]\n"
     ]
    }
   ],
   "source": [
    "# Evaluate our model\n",
    "training_score = logistic_regression_model.score(X_train, y_train)\n",
    "test_score = logistic_regression_model.score(X_test, y_test)\n",
    "print_header(\"COMPARING SCORES OF TRAINING AND TEST SET\")\n",
    "print(\"training set score: %f\" % training_score)\n",
    "print(\"test set score: %f\" % test_score)\n",
    "\n",
    "# Make predictions\n",
    "expected = y\n",
    "predicted = logistic_regression_model.predict(X)\n",
    "\n",
    "print_header(\"CLASSIFICATION REPORT\")\n",
    "classification_report = metrics.classification_report(expected, predicted)\n",
    "print(classification_report)\n",
    "\n",
    "print_header(\"CONFUSION MATRIX\")\n",
    "confusion_matrix = metrics.confusion_matrix(expected, predicted)\n",
    "print(confusion_matrix)"
   ]
  },
  {
   "cell_type": "markdown",
   "metadata": {},
   "source": [
    "### Naive Bayes"
   ]
  },
  {
   "cell_type": "code",
   "execution_count": 15,
   "metadata": {},
   "outputs": [
    {
     "data": {
      "text/plain": [
       "GaussianNB(priors=None)"
      ]
     },
     "execution_count": 15,
     "metadata": {},
     "output_type": "execute_result"
    }
   ],
   "source": [
    "# 3. Choose our model and train our model \n",
    "from sklearn.naive_bayes import GaussianNB\n",
    "naive_bayes_model = GaussianNB()\n",
    "naive_bayes_model.fit(X_train, y_train)"
   ]
  },
  {
   "cell_type": "markdown",
   "metadata": {},
   "source": [
    "### k-Nearest Neighbour"
   ]
  },
  {
   "cell_type": "code",
   "execution_count": 16,
   "metadata": {},
   "outputs": [
    {
     "data": {
      "text/plain": [
       "KNeighborsClassifier(algorithm='auto', leaf_size=30, metric='minkowski',\n",
       "           metric_params=None, n_jobs=1, n_neighbors=5, p=2,\n",
       "           weights='uniform')"
      ]
     },
     "execution_count": 16,
     "metadata": {},
     "output_type": "execute_result"
    }
   ],
   "source": [
    "# 3. Choose our model and train our model \n",
    "from sklearn.neighbors import KNeighborsClassifier\n",
    "knn_model = KNeighborsClassifier()\n",
    "knn_model.fit(X_train, y_train)"
   ]
  },
  {
   "cell_type": "markdown",
   "metadata": {},
   "source": [
    "### Decision Trees"
   ]
  },
  {
   "cell_type": "code",
   "execution_count": 17,
   "metadata": {},
   "outputs": [
    {
     "data": {
      "text/plain": [
       "DecisionTreeClassifier(class_weight=None, criterion='gini', max_depth=None,\n",
       "            max_features=None, max_leaf_nodes=None,\n",
       "            min_impurity_split=1e-07, min_samples_leaf=1,\n",
       "            min_samples_split=2, min_weight_fraction_leaf=0.0,\n",
       "            presort=False, random_state=None, splitter='best')"
      ]
     },
     "execution_count": 17,
     "metadata": {},
     "output_type": "execute_result"
    }
   ],
   "source": [
    "# 3. Choose our model and train our model \n",
    "from sklearn.tree import DecisionTreeClassifier\n",
    "decision_trees_model = DecisionTreeClassifier()\n",
    "decision_trees_model.fit(X_train, y_train)"
   ]
  },
  {
   "cell_type": "markdown",
   "metadata": {},
   "source": [
    "### Support Vector Machines"
   ]
  },
  {
   "cell_type": "code",
   "execution_count": null,
   "metadata": {},
   "outputs": [],
   "source": [
    "# 3. Choose our model and train our model \n",
    "from sklearn.svm import SVC\n",
    "svm_model = SVC()\n",
    "svm_model.fit(X_train, y_train)"
   ]
  },
  {
   "cell_type": "markdown",
   "metadata": {},
   "source": [
    "### Random Forest Classifier"
   ]
  },
  {
   "cell_type": "code",
   "execution_count": null,
   "metadata": {},
   "outputs": [],
   "source": [
    "from sklearn.ensemble import RandomForestClassifier\n",
    "\n",
    "rfc_model = RandomForestClassifier(max_depth=5, \n",
    "                                 min_samples_leaf=10, \n",
    "                                 max_features=10, \n",
    "                                 bootstrap=False)\n",
    "rfc_model.fit(X_train, y_train)"
   ]
  },
  {
   "cell_type": "markdown",
   "metadata": {},
   "source": [
    "## 4. Evaluate model"
   ]
  },
  {
   "cell_type": "code",
   "execution_count": null,
   "metadata": {},
   "outputs": [],
   "source": [
    "models = [logistic_regression_model, naive_bayes_model, knn_model, decision_trees_model, svm_model, rfc_model]\n",
    "for model in models:\n",
    "    generate_evaluation_tables(model, X, y)"
   ]
  },
  {
   "cell_type": "markdown",
   "metadata": {},
   "source": [
    "## 5. Tuning the Random Forest Classifier with GridSearchCV "
   ]
  },
  {
   "cell_type": "code",
   "execution_count": null,
   "metadata": {
    "collapsed": true
   },
   "outputs": [],
   "source": [
    "from sklearn.model_selection import GridSearchCV"
   ]
  },
  {
   "cell_type": "code",
   "execution_count": null,
   "metadata": {},
   "outputs": [],
   "source": [
    "# NOTE: This will take about 1-2 minutes to run!\n",
    "param_grid = {\"max_depth\": [3, None],\n",
    "              \"max_features\": [1, 3, 10],\n",
    "              \"min_samples_split\": [2, 3, 10],\n",
    "              \"min_samples_leaf\": [1, 3, 10],\n",
    "              \"bootstrap\": [True, False],\n",
    "              \"criterion\": [\"gini\", \"entropy\"]}\n",
    "\n",
    "rfc_model = RandomForestClassifier()\n",
    "rfc_grid = GridSearchCV(estimator=rfc_model, param_grid=param_grid, cv=5)\n",
    "\n",
    "rfc_grid.fit(X_train, y_train)\n",
    "\n",
    "print(\"Best estimator:\", rfc_grid.best_estimator_)\n",
    "print(\"Best score:\", rfc_grid.best_score_)\n",
    "print(pd.DataFrame(rfc_grid.cv_results_))"
   ]
  },
  {
   "cell_type": "code",
   "execution_count": null,
   "metadata": {},
   "outputs": [],
   "source": [
    "generate_evaluation_tables(rfc_grid, X, y)"
   ]
  },
  {
   "cell_type": "markdown",
   "metadata": {},
   "source": [
    "# Conclusion\n",
    "\n",
    "Key learning points\n",
    "\n",
    "1. The process of training different classification models is very similar.\n",
    "2. Without any tuning, DecisionTreeClassifier provides the most accurate predictions. However, this is due to overfitting (as suggested by the training score of 1.0). This is one of the weakness of DecisionTrees). \n",
    "3. The next most accurate models are:\n",
    "    - SupportVectorMachineClassifier (precision=0.94, recall=0.94)\n",
    "    - RandomForestClassifier (GridSearched) (precision=0.93, recall=0.94)\n",
    "    - KNeighboursClassifier(precision=0.92, recall=0.93)\n",
    "4. We can use GridSearchCV to search for the most optimized parameters for a given model"
   ]
  },
  {
   "cell_type": "code",
   "execution_count": null,
   "metadata": {
    "collapsed": true
   },
   "outputs": [],
   "source": []
  },
  {
   "cell_type": "code",
   "execution_count": null,
   "metadata": {
    "collapsed": true
   },
   "outputs": [],
   "source": []
  }
 ],
 "metadata": {
  "kernelspec": {
   "display_name": "Python [conda root]",
   "language": "python",
   "name": "conda-root-py"
  },
  "language_info": {
   "codemirror_mode": {
    "name": "ipython",
    "version": 2
   },
   "file_extension": ".py",
   "mimetype": "text/x-python",
   "name": "python",
   "nbconvert_exporter": "python",
   "pygments_lexer": "ipython2",
   "version": "2.7.13"
  }
 },
 "nbformat": 4,
 "nbformat_minor": 2
}
